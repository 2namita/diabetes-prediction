{
 "cells": [
  {
   "cell_type": "code",
   "execution_count": 1,
   "id": "647cfc6e-7706-405f-81ac-d251c37e8a14",
   "metadata": {},
   "outputs": [],
   "source": [
    "# Loading the Required Packages\n",
    "import numpy as np\n",
    "import pandas as pd\n",
    "import seaborn as sns\n",
    "import matplotlib.pyplot as plt\n",
    "from sklearn.preprocessing import StandardScaler, MinMaxScaler, OneHotEncoder\n",
    "from sklearn.preprocessing import LabelEncoder\n",
    "from sklearn.model_selection import train_test_split\n",
    "from sklearn import linear_model\n",
    "from sklearn.ensemble import RandomForestRegressor\n",
    "from sklearn.metrics import mean_squared_error, r2_score\n",
    "\n"
   ]
  },
  {
   "cell_type": "code",
   "execution_count": 2,
   "id": "69279038-3b51-46b8-805a-b6342858451e",
   "metadata": {},
   "outputs": [
    {
     "name": "stdout",
     "output_type": "stream",
     "text": [
      "total 3724\n",
      "-rwxr-xr-x 1 nvarma nvarma 3810356 Apr 14 18:27 diabetes_prediction_dataset.csv\n"
     ]
    }
   ],
   "source": [
    "!ls -l  ../datasets"
   ]
  },
  {
   "cell_type": "code",
   "execution_count": 3,
   "id": "11004ad2-0b4b-4f17-8489-f9862e5568ac",
   "metadata": {},
   "outputs": [],
   "source": [
    "\n",
    "# Reading Our Dataset\n",
    "diabetes_dataset = pd.read_csv('../datasets/diabetes_prediction_dataset.csv')\n"
   ]
  },
  {
   "cell_type": "code",
   "execution_count": 4,
   "id": "1af846b4-7861-4225-a737-f4217917cb36",
   "metadata": {},
   "outputs": [
    {
     "name": "stdout",
     "output_type": "stream",
     "text": [
      "\n",
      "Diabetes Dataset Shape: (100000, 9)\n",
      "\n",
      "Diabetes Dataset Columns: ['gender', 'age', 'hypertension', 'heart_disease', 'smoking_history', 'bmi', 'HbA1c_level', 'blood_glucose_level', 'diabetes']\n",
      "\n",
      "Diabetes Dataset Head:    gender   age  hypertension  heart_disease smoking_history    bmi  \\\n",
      "0  Female  80.0             0              1           never  25.19   \n",
      "1  Female  54.0             0              0         No Info  27.32   \n",
      "2    Male  28.0             0              0           never  27.32   \n",
      "3  Female  36.0             0              0         current  23.45   \n",
      "4    Male  76.0             1              1         current  20.14   \n",
      "\n",
      "   HbA1c_level  blood_glucose_level  diabetes  \n",
      "0          6.6                  140         0  \n",
      "1          6.6                   80         0  \n",
      "2          5.7                  158         0  \n",
      "3          5.0                  155         0  \n",
      "4          4.8                  155         0  \n",
      "<class 'pandas.core.frame.DataFrame'>\n",
      "RangeIndex: 100000 entries, 0 to 99999\n",
      "Data columns (total 9 columns):\n",
      " #   Column               Non-Null Count   Dtype  \n",
      "---  ------               --------------   -----  \n",
      " 0   gender               100000 non-null  object \n",
      " 1   age                  100000 non-null  float64\n",
      " 2   hypertension         100000 non-null  int64  \n",
      " 3   heart_disease        100000 non-null  int64  \n",
      " 4   smoking_history      100000 non-null  object \n",
      " 5   bmi                  100000 non-null  float64\n",
      " 6   HbA1c_level          100000 non-null  float64\n",
      " 7   blood_glucose_level  100000 non-null  int64  \n",
      " 8   diabetes             100000 non-null  int64  \n",
      "dtypes: float64(3), int64(4), object(2)\n",
      "memory usage: 6.9+ MB\n",
      "\n",
      "Diabetes Dataset Info: None\n",
      "Diabetes Dataset Description:\n",
      "                  age  hypertension  heart_disease            bmi  \\\n",
      "count  100000.000000  100000.00000  100000.000000  100000.000000   \n",
      "mean       41.885856       0.07485       0.039420      27.320767   \n",
      "std        22.516840       0.26315       0.194593       6.636783   \n",
      "min         0.080000       0.00000       0.000000      10.010000   \n",
      "25%        24.000000       0.00000       0.000000      23.630000   \n",
      "50%        43.000000       0.00000       0.000000      27.320000   \n",
      "75%        60.000000       0.00000       0.000000      29.580000   \n",
      "max        80.000000       1.00000       1.000000      95.690000   \n",
      "\n",
      "         HbA1c_level  blood_glucose_level       diabetes  \n",
      "count  100000.000000        100000.000000  100000.000000  \n",
      "mean        5.527507           138.058060       0.085000  \n",
      "std         1.070672            40.708136       0.278883  \n",
      "min         3.500000            80.000000       0.000000  \n",
      "25%         4.800000           100.000000       0.000000  \n",
      "50%         5.800000           140.000000       0.000000  \n",
      "75%         6.200000           159.000000       0.000000  \n",
      "max         9.000000           300.000000       1.000000  \n",
      "\n",
      "Diabetes Dataset Missing Values: gender                 0\n",
      "age                    0\n",
      "hypertension           0\n",
      "heart_disease          0\n",
      "smoking_history        0\n",
      "bmi                    0\n",
      "HbA1c_level            0\n",
      "blood_glucose_level    0\n",
      "diabetes               0\n",
      "dtype: int64\n",
      "\n",
      "Diabetes Dataset Duplicates: 3854\n",
      "\n",
      "Diabetes Dataset Target Distribution:\n",
      " diabetes\n",
      "0    91500\n",
      "1     8500\n",
      "Name: count, dtype: int64\n",
      "\n",
      "Diabetes Dataset Target Distribution Percentage:\n",
      " diabetes\n",
      "0    0.915\n",
      "1    0.085\n",
      "Name: proportion, dtype: float64\n"
     ]
    }
   ],
   "source": [
    "print(f\"\\nDiabetes Dataset Shape: {diabetes_dataset.shape}\")\n",
    "print(f\"\\nDiabetes Dataset Columns: {diabetes_dataset.columns.tolist()}\")\n",
    "print(f\"\\nDiabetes Dataset Head: {diabetes_dataset.head()}\")\n",
    "print(f\"\\nDiabetes Dataset Info: {diabetes_dataset.info()}\")  \n",
    "print(f\"Diabetes Dataset Description:\\n {diabetes_dataset.describe()}\")\n",
    "print(f\"\\nDiabetes Dataset Missing Values: {diabetes_dataset.isnull().sum()}\")\n",
    "print(f\"\\nDiabetes Dataset Duplicates: {diabetes_dataset.duplicated().sum()}\")\n",
    "#print(f\"\\nDiabetes Dataset Correlation: {diabetes_dataset.corr()}\")\n",
    "print(f\"\\nDiabetes Dataset Target Distribution:\\n {diabetes_dataset['diabetes'].value_counts()}\")\n",
    "print(f\"\\nDiabetes Dataset Target Distribution Percentage:\\n {diabetes_dataset['diabetes'].value_counts(normalize=True)}\")"
   ]
  },
  {
   "cell_type": "code",
   "execution_count": 5,
   "id": "15548299-0dc6-4aba-9612-ae44131f42b1",
   "metadata": {},
   "outputs": [
    {
     "name": "stdout",
     "output_type": "stream",
     "text": [
      "\n",
      "Diabetes Dataset Target Distribution Percentage:\n",
      " Axes(0.125,0.11;0.775x0.77)\n"
     ]
    },
    {
     "data": {
      "image/png": "[encoded data removed]",
      "text/plain": [
       "<Figure size 640x480 with 1 Axes>"
      ]
     },
     "metadata": {},
     "output_type": "display_data"
    }
   ],
   "source": [
    "print(f\"\\nDiabetes Dataset Target Distribution Percentage:\\n {diabetes_dataset['diabetes'].value_counts(normalize=True).plot(kind='bar')}\")\n",
    "plt.title('Diabetes Target Distribution')\n",
    "plt.xlabel('Diabetes')\n",
    "plt.ylabel('Count')\n",
    "plt.xticks(rotation=0)\n",
    "plt.plot\n",
    "#plt.savefig('diabetes_model/diabetes_target_distribution.png')\n",
    "plt.show()"
   ]
  },
  {
   "cell_type": "code",
   "execution_count": 6,
   "id": "00aecb5c-c797-47cb-b6de-341a5a2be5db",
   "metadata": {},
   "outputs": [
    {
     "name": "stdout",
     "output_type": "stream",
     "text": [
      "Number of numerical variables: 6 : ['age', 'hypertension', 'heart_disease', 'bmi', 'HbA1c_level', 'blood_glucose_level']\n",
      "Number of categorical variables: 2 : ['gender', 'smoking_history']\n"
     ]
    }
   ],
   "source": [
    "\n",
    "unused_colms = []   # unused columns will be removed at later stage\n",
    "target_col = ['diabetes']\n",
    "\n",
    "numerical_features = []\n",
    "categorical_features = []\n",
    "\n",
    "for col in diabetes_dataset.columns:\n",
    "    if col not in target_col + unused_colms:\n",
    "        if diabetes_dataset[col].dtypes != 'object':\n",
    "            numerical_features.append(col)\n",
    "        else:\n",
    "            categorical_features.append(col)\n",
    "\n",
    "\n",
    "print('Number of numerical variables: {}'.format(len(numerical_features)),\":\" , numerical_features)\n",
    "\n",
    "print('Number of categorical variables: {}'.format(len(categorical_features)),\":\" , categorical_features)"
   ]
  },
  {
   "cell_type": "code",
   "execution_count": 7,
   "id": "83c0319c-6b54-4fec-9a8b-dd1adc25e819",
   "metadata": {},
   "outputs": [
    {
     "data": {
      "image/png": "[encoded data removed]",
      "text/plain": [
       "<Figure size 640x480 with 1 Axes>"
      ]
     },
     "metadata": {},
     "output_type": "display_data"
    }
   ],
   "source": [
    "diabetes_dataset[numerical_features].boxplot()\n",
    "plt.xticks(rotation= 60)\n",
    "plt.show()"
   ]
  },
  {
   "cell_type": "code",
   "execution_count": 8,
   "id": "46e1091d-c207-4014-8023-136823d597a7",
   "metadata": {},
   "outputs": [],
   "source": [
    "# The above shows the column BMI has many outliers, and looking at data it shows many rows with BMI over 40 which does not look realistic. \n",
    "# Should be dropped.\n",
    "drop_columns = ['bmi']"
   ]
  },
  {
   "cell_type": "code",
   "execution_count": 9,
   "id": "0202c6c0-2b21-4c64-b70c-fceccc80608c",
   "metadata": {},
   "outputs": [
    {
     "data": {
      "image/png": "[encoded data removed]",
      "text/plain": [
       "<Figure size 800x600 with 1 Axes>"
      ]
     },
     "metadata": {},
     "output_type": "display_data"
    }
   ],
   "source": [
    "#Show correlation of diabetes to the other columns. Numeric ones only\n",
    "target_corr = diabetes_dataset.corr(numeric_only=True)['diabetes'].drop('diabetes')\n",
    "plt.figure(figsize=(8, 6))\n",
    "sns.barplot(x=target_corr.values, y=target_corr.index, palette=\"coolwarm\", \n",
    "           hue= target_corr.index,\n",
    "           legend=False, \n",
    "           dodge=False)\n",
    "plt.title(\"Correlation with Target: Diabetes\")\n",
    "plt.xlabel(\"Correlation Coefficient\")\n",
    "plt.ylabel(\"Features\")\n",
    "plt.tight_layout()\n",
    "plt.show()"
   ]
  },
  {
   "cell_type": "code",
   "execution_count": 10,
   "id": "156519d1-42d5-4b72-b605-32089b179193",
   "metadata": {},
   "outputs": [
    {
     "data": {
      "text/plain": [
       "array(['Female', 'Male', 'Other'], dtype=object)"
      ]
     },
     "execution_count": 10,
     "metadata": {},
     "output_type": "execute_result"
    }
   ],
   "source": [
    "diabetes_dataset.gender.unique()"
   ]
  },
  {
   "cell_type": "code",
   "execution_count": 11,
   "id": "adb3bb83-a60f-4c7c-a065-06be1271e43d",
   "metadata": {},
   "outputs": [
    {
     "data": {
      "text/plain": [
       "array(['never', 'No Info', 'current', 'former', 'ever', 'not current'],\n",
       "      dtype=object)"
      ]
     },
     "execution_count": 11,
     "metadata": {},
     "output_type": "execute_result"
    }
   ],
   "source": [
    "diabetes_dataset.smoking_history.unique()"
   ]
  },
  {
   "cell_type": "code",
   "execution_count": 12,
   "id": "8c2a5bc1-fbcf-4144-9ee7-1b12ebc71970",
   "metadata": {},
   "outputs": [],
   "source": [
    "from sklearn.base import BaseEstimator, TransformerMixin\n",
    "from sklearn.preprocessing import OneHotEncoder"
   ]
  },
  {
   "cell_type": "code",
   "execution_count": 13,
   "id": "d4840812-5ed1-4b13-b3f9-33f486031699",
   "metadata": {},
   "outputs": [],
   "source": [
    "#Unmodified data\n",
    "#data = pd.read_csv('../datasets/diabetes_prediction_dataset.csv')"
   ]
  },
  {
   "cell_type": "code",
   "execution_count": 14,
   "id": "ff05f1fd-acf3-486b-ba64-6639a9b90bf5",
   "metadata": {},
   "outputs": [],
   "source": [
    "class Mapper(BaseEstimator, TransformerMixin):\n",
    "    \"\"\"\n",
    "    Ordinal categorical variable mapper:\n",
    "    Treat column as Ordinal categorical variable, and assign values accordingly\n",
    "    \"\"\"\n",
    "\n",
    "    # The mapping will contain the values to map\n",
    "    #   - key is current categorical variable value\n",
    "    #   - value is the integer value to replace with\n",
    "    def __init__(self, variables: str, mappings: dict):\n",
    "\n",
    "        if not isinstance(variables, str):\n",
    "            raise ValueError(\"variables should be a str\")\n",
    "\n",
    "        self.variables = variables\n",
    "        self.mappings = mappings\n",
    "\n",
    "    def fit(self, X: pd.DataFrame, y: pd.Series = None):\n",
    "        # we need the fit statement to accomodate the sklearn pipeline\n",
    "        return self\n",
    "\n",
    "    def transform(self, X: pd.DataFrame) -> pd.DataFrame:\n",
    "        X = X.copy()\n",
    "        # Map the value and set the type as int\n",
    "        X[self.variables] = X[self.variables].map(self.mappings).astype(int)\n",
    "\n",
    "        return X"
   ]
  },
  {
   "cell_type": "code",
   "execution_count": 34,
   "id": "e1f95530-44c9-4ae2-93e5-b4acbf59cb52",
   "metadata": {},
   "outputs": [],
   "source": [
    "class SmokingOneHotEncoder(BaseEstimator, TransformerMixin):\n",
    "    \"\"\" One-hot encode weekday column \"\"\"\n",
    "\n",
    "    def __init__(self, variables: str):\n",
    "        # YOUR CODE HERE\n",
    "        if not isinstance(variables, str):\n",
    "            raise ValueError(\"variables should be a list\")\n",
    "\n",
    "        self.variables = variables\n",
    "\n",
    "    def fit(self, X: pd.DataFrame, y: pd.Series = None):\n",
    "        # YOUR CODE HERE\n",
    "        self.encoder = OneHotEncoder(sparse_output=False)\n",
    "        self.encoder.fit(X[[self.variables]])\n",
    "        return self\n",
    "\n",
    "    def transform(self, X: pd.DataFrame) -> pd.DataFrame:\n",
    "        # YOUR CODE HERE\n",
    "        # Do the one shot encoding transformation\n",
    "        encoded_smoking = self.encoder.transform(X[[self.variables]])\n",
    "\n",
    "        # Get the encoded feature names\n",
    "        enc_smoking_features = self.encoder.get_feature_names_out()\n",
    "        #print(f\"Feature:\\n {enc_smoking_features}\") \n",
    "        # Append encoded weekday features to X\n",
    "        X[enc_smoking_features] = encoded_smoking\n",
    "        \n",
    "        return X\n"
   ]
  },
  {
   "cell_type": "code",
   "execution_count": null,
   "id": "cdcb7943-b61e-4274-b242-de08c10b6241",
   "metadata": {},
   "outputs": [],
   "source": [
    "smoking_encoder = SmokingOneHotEncoder('smoking_history')\n",
    "diabetes_dataset = smoking_encoder.fit_transform(diabetes_dataset)"
   ]
  },
  {
   "cell_type": "code",
   "execution_count": 36,
   "id": "9b02eb58-a9f3-42b6-b47a-ee14c75f859f",
   "metadata": {},
   "outputs": [
    {
     "data": {
      "text/html": [
       "<div>\n",
       "<style scoped>\n",
       "    .dataframe tbody tr th:only-of-type {\n",
       "        vertical-align: middle;\n",
       "    }\n",
       "\n",
       "    .dataframe tbody tr th {\n",
       "        vertical-align: top;\n",
       "    }\n",
       "\n",
       "    .dataframe thead th {\n",
       "        text-align: right;\n",
       "    }\n",
       "</style>\n",
       "<table border=\"1\" class=\"dataframe\">\n",
       "  <thead>\n",
       "    <tr style=\"text-align: right;\">\n",
       "      <th></th>\n",
       "      <th>gender</th>\n",
       "      <th>age</th>\n",
       "      <th>hypertension</th>\n",
       "      <th>heart_disease</th>\n",
       "      <th>bmi</th>\n",
       "      <th>HbA1c_level</th>\n",
       "      <th>blood_glucose_level</th>\n",
       "      <th>smoking_history_No Info</th>\n",
       "      <th>smoking_history_current</th>\n",
       "      <th>smoking_history_ever</th>\n",
       "      <th>smoking_history_former</th>\n",
       "      <th>smoking_history_never</th>\n",
       "      <th>smoking_history_not current</th>\n",
       "    </tr>\n",
       "  </thead>\n",
       "  <tbody>\n",
       "    <tr>\n",
       "      <th>0</th>\n",
       "      <td>0</td>\n",
       "      <td>80.0</td>\n",
       "      <td>0</td>\n",
       "      <td>1</td>\n",
       "      <td>25.19</td>\n",
       "      <td>6.6</td>\n",
       "      <td>140</td>\n",
       "      <td>0.0</td>\n",
       "      <td>0.0</td>\n",
       "      <td>0.0</td>\n",
       "      <td>0.0</td>\n",
       "      <td>1.0</td>\n",
       "      <td>0.0</td>\n",
       "    </tr>\n",
       "    <tr>\n",
       "      <th>1</th>\n",
       "      <td>0</td>\n",
       "      <td>54.0</td>\n",
       "      <td>0</td>\n",
       "      <td>0</td>\n",
       "      <td>27.32</td>\n",
       "      <td>6.6</td>\n",
       "      <td>80</td>\n",
       "      <td>1.0</td>\n",
       "      <td>0.0</td>\n",
       "      <td>0.0</td>\n",
       "      <td>0.0</td>\n",
       "      <td>0.0</td>\n",
       "      <td>0.0</td>\n",
       "    </tr>\n",
       "    <tr>\n",
       "      <th>2</th>\n",
       "      <td>1</td>\n",
       "      <td>28.0</td>\n",
       "      <td>0</td>\n",
       "      <td>0</td>\n",
       "      <td>27.32</td>\n",
       "      <td>5.7</td>\n",
       "      <td>158</td>\n",
       "      <td>0.0</td>\n",
       "      <td>0.0</td>\n",
       "      <td>0.0</td>\n",
       "      <td>0.0</td>\n",
       "      <td>1.0</td>\n",
       "      <td>0.0</td>\n",
       "    </tr>\n",
       "  </tbody>\n",
       "</table>\n",
       "</div>"
      ],
      "text/plain": [
       "   gender   age  hypertension  heart_disease    bmi  HbA1c_level  \\\n",
       "0       0  80.0             0              1  25.19          6.6   \n",
       "1       0  54.0             0              0  27.32          6.6   \n",
       "2       1  28.0             0              0  27.32          5.7   \n",
       "\n",
       "   blood_glucose_level  smoking_history_No Info  smoking_history_current  \\\n",
       "0                  140                      0.0                      0.0   \n",
       "1                   80                      1.0                      0.0   \n",
       "2                  158                      0.0                      0.0   \n",
       "\n",
       "   smoking_history_ever  smoking_history_former  smoking_history_never  \\\n",
       "0                   0.0                     0.0                    1.0   \n",
       "1                   0.0                     0.0                    0.0   \n",
       "2                   0.0                     0.0                    1.0   \n",
       "\n",
       "   smoking_history_not current  \n",
       "0                          0.0  \n",
       "1                          0.0  \n",
       "2                          0.0  "
      ]
     },
     "execution_count": 36,
     "metadata": {},
     "output_type": "execute_result"
    }
   ],
   "source": [
    "diabetes_dataset.head(3)\n"
   ]
  },
  {
   "cell_type": "code",
   "execution_count": 20,
   "id": "4c7e2bd0-a408-4411-975e-35f91e43ea15",
   "metadata": {},
   "outputs": [],
   "source": [
    "class LabelEncoderTransformer(BaseEstimator, TransformerMixin):\n",
    "    \"\"\" One-hot encode weekday column \"\"\"\n",
    "\n",
    "    def __init__(self, variables: str):\n",
    "        # YOUR CODE HERE\n",
    "        if not isinstance(variables, str):\n",
    "            raise ValueError(\"variables should be a list\")\n",
    "\n",
    "        self.variables = variables\n",
    "\n",
    "    def fit(self, X: pd.DataFrame, y: pd.Series = None):\n",
    "        # YOUR CODE HERE\n",
    "        self.encoder = LabelEncoder()\n",
    "        #self.encoder.fit(X[[self.variables]])\n",
    "        return self\n",
    "\n",
    "    def transform(self, X: pd.DataFrame) -> pd.DataFrame:\n",
    "        # YOUR CODE HERE\n",
    "        # Do the one shot encoding transformation\n",
    "        X[self.variables] = self.encoder.fit_transform(X[self.variables])     \n",
    "\n",
    "        return X\n"
   ]
  },
  {
   "cell_type": "code",
   "execution_count": 22,
   "id": "b18bc515-625c-4319-8cbf-c52ea64dc4eb",
   "metadata": {},
   "outputs": [],
   "source": [
    "le = LabelEncoderTransformer('gender')\n",
    "diabetes_dataset = le.fit_transform(diabetes_dataset)"
   ]
  },
  {
   "cell_type": "code",
   "execution_count": 23,
   "id": "a93e6c94-a12c-4c2a-9395-74fef5ef7aae",
   "metadata": {},
   "outputs": [
    {
     "data": {
      "text/plain": [
       "array([0, 1, 2])"
      ]
     },
     "execution_count": 23,
     "metadata": {},
     "output_type": "execute_result"
    }
   ],
   "source": [
    "diabetes_dataset.gender.unique()"
   ]
  },
  {
   "cell_type": "code",
   "execution_count": 24,
   "id": "488e2b1f-8e92-46ef-8840-73cfaec15b78",
   "metadata": {},
   "outputs": [],
   "source": [
    "diabetes_dataset.drop(['smoking_history', 'diabetes'], axis=1, inplace=True)"
   ]
  },
  {
   "cell_type": "code",
   "execution_count": 25,
   "id": "1f06af50-289c-446e-9d7d-66233521c960",
   "metadata": {},
   "outputs": [
    {
     "data": {
      "text/html": [
       "<div>\n",
       "<style scoped>\n",
       "    .dataframe tbody tr th:only-of-type {\n",
       "        vertical-align: middle;\n",
       "    }\n",
       "\n",
       "    .dataframe tbody tr th {\n",
       "        vertical-align: top;\n",
       "    }\n",
       "\n",
       "    .dataframe thead th {\n",
       "        text-align: right;\n",
       "    }\n",
       "</style>\n",
       "<table border=\"1\" class=\"dataframe\">\n",
       "  <thead>\n",
       "    <tr style=\"text-align: right;\">\n",
       "      <th></th>\n",
       "      <th>gender</th>\n",
       "      <th>age</th>\n",
       "      <th>hypertension</th>\n",
       "      <th>heart_disease</th>\n",
       "      <th>bmi</th>\n",
       "      <th>HbA1c_level</th>\n",
       "      <th>blood_glucose_level</th>\n",
       "      <th>smoking_history_No Info</th>\n",
       "      <th>smoking_history_current</th>\n",
       "      <th>smoking_history_ever</th>\n",
       "      <th>smoking_history_former</th>\n",
       "      <th>smoking_history_never</th>\n",
       "      <th>smoking_history_not current</th>\n",
       "    </tr>\n",
       "  </thead>\n",
       "  <tbody>\n",
       "    <tr>\n",
       "      <th>0</th>\n",
       "      <td>0</td>\n",
       "      <td>80.0</td>\n",
       "      <td>0</td>\n",
       "      <td>1</td>\n",
       "      <td>25.19</td>\n",
       "      <td>6.6</td>\n",
       "      <td>140</td>\n",
       "      <td>0.0</td>\n",
       "      <td>0.0</td>\n",
       "      <td>0.0</td>\n",
       "      <td>0.0</td>\n",
       "      <td>1.0</td>\n",
       "      <td>0.0</td>\n",
       "    </tr>\n",
       "    <tr>\n",
       "      <th>1</th>\n",
       "      <td>0</td>\n",
       "      <td>54.0</td>\n",
       "      <td>0</td>\n",
       "      <td>0</td>\n",
       "      <td>27.32</td>\n",
       "      <td>6.6</td>\n",
       "      <td>80</td>\n",
       "      <td>1.0</td>\n",
       "      <td>0.0</td>\n",
       "      <td>0.0</td>\n",
       "      <td>0.0</td>\n",
       "      <td>0.0</td>\n",
       "      <td>0.0</td>\n",
       "    </tr>\n",
       "    <tr>\n",
       "      <th>2</th>\n",
       "      <td>1</td>\n",
       "      <td>28.0</td>\n",
       "      <td>0</td>\n",
       "      <td>0</td>\n",
       "      <td>27.32</td>\n",
       "      <td>5.7</td>\n",
       "      <td>158</td>\n",
       "      <td>0.0</td>\n",
       "      <td>0.0</td>\n",
       "      <td>0.0</td>\n",
       "      <td>0.0</td>\n",
       "      <td>1.0</td>\n",
       "      <td>0.0</td>\n",
       "    </tr>\n",
       "  </tbody>\n",
       "</table>\n",
       "</div>"
      ],
      "text/plain": [
       "   gender   age  hypertension  heart_disease    bmi  HbA1c_level  \\\n",
       "0       0  80.0             0              1  25.19          6.6   \n",
       "1       0  54.0             0              0  27.32          6.6   \n",
       "2       1  28.0             0              0  27.32          5.7   \n",
       "\n",
       "   blood_glucose_level  smoking_history_No Info  smoking_history_current  \\\n",
       "0                  140                      0.0                      0.0   \n",
       "1                   80                      1.0                      0.0   \n",
       "2                  158                      0.0                      0.0   \n",
       "\n",
       "   smoking_history_ever  smoking_history_former  smoking_history_never  \\\n",
       "0                   0.0                     0.0                    1.0   \n",
       "1                   0.0                     0.0                    0.0   \n",
       "2                   0.0                     0.0                    1.0   \n",
       "\n",
       "   smoking_history_not current  \n",
       "0                          0.0  \n",
       "1                          0.0  \n",
       "2                          0.0  "
      ]
     },
     "execution_count": 25,
     "metadata": {},
     "output_type": "execute_result"
    }
   ],
   "source": [
    "diabetes_dataset.head(3)"
   ]
  },
  {
   "cell_type": "code",
   "execution_count": 46,
   "id": "6547459b-4504-46ca-8d18-83fe06da8a1e",
   "metadata": {},
   "outputs": [
    {
     "name": "stdout",
     "output_type": "stream",
     "text": [
      "Gender : 0\n",
      "gender                           0.00\n",
      "age                             13.00\n",
      "hypertension                     0.00\n",
      "heart_disease                    0.00\n",
      "bmi                             20.82\n",
      "HbA1c_level                      5.80\n",
      "blood_glucose_level            126.00\n",
      "smoking_history_No Info          1.00\n",
      "smoking_history_current          0.00\n",
      "smoking_history_ever             0.00\n",
      "smoking_history_former           0.00\n",
      "smoking_history_never            0.00\n",
      "smoking_history_not current      0.00\n",
      "Name: 75721, dtype: float64\n"
     ]
    }
   ],
   "source": [
    "print (f\"Gender : {diabetes_dataset.loc[75721, 'gender']}\")\n",
    "print (diabetes_dataset.loc[75721])"
   ]
  },
  {
   "cell_type": "code",
   "execution_count": 52,
   "id": "57383952-fa30-4197-b39c-61fa54373267",
   "metadata": {},
   "outputs": [
    {
     "name": "stdout",
     "output_type": "stream",
     "text": [
      "sample smoking: 5.8\n"
     ]
    }
   ],
   "source": [
    "print (f\"sample smoking: {diabetes_dataset.loc[75721, 'HbA1c_level']}\")\n"
   ]
  },
  {
   "cell_type": "code",
   "execution_count": null,
   "id": "3d542c35-db98-4d71-a4df-28ed322e582c",
   "metadata": {},
   "outputs": [],
   "source": []
  }
 ],
 "metadata": {
  "kernelspec": {
   "display_name": "Python 3 (ipykernel)",
   "language": "python",
   "name": "python3"
  },
  "language_info": {
   "codemirror_mode": {
    "name": "ipython",
    "version": 3
   },
   "file_extension": ".py",
   "mimetype": "text/x-python",
   "name": "python",
   "nbconvert_exporter": "python",
   "pygments_lexer": "ipython3",
   "version": "3.10.12"
  }
 },
 "nbformat": 4,
 "nbformat_minor": 5
}
